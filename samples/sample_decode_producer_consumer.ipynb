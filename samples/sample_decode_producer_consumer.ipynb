{
 "cells": [
  {
   "cell_type": "markdown",
   "id": "a19288aa",
   "metadata": {},
   "source": [
    "#### This sample illustrates multithread decode:\n",
    "  - 1st thread acts as producer, it reads packets into internal queue.\n",
    "  - 2nd thread acts as consumer, it takes packets from queue and decodes them to video frames."
   ]
  },
  {
   "cell_type": "code",
   "execution_count": null,
   "id": "4a3e4a33",
   "metadata": {},
   "outputs": [],
   "source": [
    "import python_vali as vali\n",
    "import threading\n",
    "import time"
   ]
  },
  {
   "cell_type": "markdown",
   "id": "b866831a",
   "metadata": {},
   "source": [
    "#### Producer-consumer pattern makes sense when reading input from network. When decoding local files, it doesn't have a great advantage over usual single-thread approach."
   ]
  },
  {
   "cell_type": "code",
   "execution_count": null,
   "id": "20bce69e",
   "metadata": {},
   "outputs": [],
   "source": [
    "url = \"../tests/data/test.mp4\"\n",
    "dec = vali.PyDecoder(url, {}, gpu_id=0)"
   ]
  },
  {
   "cell_type": "code",
   "execution_count": null,
   "id": "d681406a",
   "metadata": {},
   "outputs": [],
   "source": [
    "def producer() -> None:\n",
    "    \"\"\"\n",
    "    This function reads compressedd video packets.\n",
    "    It's to be run in separate thread.\n",
    "    \"\"\"\n",
    "    now = time.time()\n",
    "\n",
    "    while True:\n",
    "        # This method unlocks GIL, so producer thread may yield to other\n",
    "        # while being blocked on IO.\n",
    "        status = dec.ReadPacket()\n",
    "        if status in [vali.DecodeStatus.OVER, vali.DecodeStatus.ERROR]:\n",
    "            break\n",
    "\n",
    "    now = time.time() - now\n",
    "    print(f\"{now:.4f}(s.) spent in producer()\")"
   ]
  },
  {
   "cell_type": "code",
   "execution_count": null,
   "id": "ef2c06ac",
   "metadata": {},
   "outputs": [],
   "source": [
    "def consumer() -> None:\n",
    "    \"\"\"\n",
    "    This function decodes compressed video packets.\n",
    "    It's to be run in separate thread.\n",
    "    \"\"\"\n",
    "    surf = vali.Surface.Make(dec.Format, dec.Width, dec.Height, gpu_id=0)\n",
    "    now = time.time()\n",
    "\n",
    "    while True:\n",
    "        # This method unlocks GIL, so consumer thread may yield to other.\n",
    "        status = dec.DecodePacketToSurfaceAsync(surf)\n",
    "        if status in [vali.DecodeStatus.DONE, vali.DecodeStatus.ERROR]:\n",
    "            break\n",
    "\n",
    "    now = time.time() - now\n",
    "    print(f\"{now:.4f}(s.) spent in consumer()\")"
   ]
  },
  {
   "cell_type": "code",
   "execution_count": null,
   "id": "529ff06c",
   "metadata": {},
   "outputs": [],
   "source": [
    "producer_th = threading.Thread(target=producer)\n",
    "consumer_th = threading.Thread(target=consumer)\n",
    "\n",
    "now = time.time()\n",
    "\n",
    "producer_th.start()\n",
    "consumer_th.start()\n",
    "\n",
    "producer_th.join()\n",
    "consumer_th.join()\n",
    "\n",
    "now = time.time() - now\n",
    "print(f\"{now:.4f}(s.) spent in main thread\")"
   ]
  },
  {
   "cell_type": "code",
   "execution_count": null,
   "id": "b7501ef5",
   "metadata": {},
   "outputs": [],
   "source": [
    "dec = vali.PyDecoder(url, {}, gpu_id=0)\n",
    "surf = vali.Surface.Make(dec.Format, dec.Width, dec.Height, gpu_id=0)\n",
    "\n",
    "now = time.time()\n",
    "\n",
    "while True:\n",
    "    success, _ = dec.DecodeSingleSurface(surf)\n",
    "    if not success:\n",
    "        break\n",
    "\n",
    "now = time.time() - now\n",
    "print(f\"{now:.4f}(s.) spent in single thread\")"
   ]
  }
 ],
 "metadata": {
  "kernelspec": {
   "display_name": "Python 3",
   "language": "python",
   "name": "python3"
  },
  "language_info": {
   "codemirror_mode": {
    "name": "ipython",
    "version": 3
   },
   "file_extension": ".py",
   "mimetype": "text/x-python",
   "name": "python",
   "nbconvert_exporter": "python",
   "pygments_lexer": "ipython3",
   "version": "3.10.12"
  }
 },
 "nbformat": 4,
 "nbformat_minor": 5
}

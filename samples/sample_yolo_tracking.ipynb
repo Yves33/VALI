{
 "cells": [
  {
   "cell_type": "markdown",
   "id": "de8a577c",
   "metadata": {},
   "source": [
    "#### This sample illustrtates how to use VALI for decoding and preprocessing together with YOLO"
   ]
  },
  {
   "cell_type": "code",
   "execution_count": null,
   "id": "b08a0682",
   "metadata": {},
   "outputs": [],
   "source": [
    "from ultralytics import YOLO\n",
    "import python_vali as vali\n",
    "import torch"
   ]
  },
  {
   "cell_type": "code",
   "execution_count": null,
   "id": "c9509194",
   "metadata": {},
   "outputs": [],
   "source": [
    "class StopExecution(Exception):\n",
    "    def _render_traceback_(self):\n",
    "        return []"
   ]
  },
  {
   "cell_type": "code",
   "execution_count": null,
   "id": "374a2216",
   "metadata": {},
   "outputs": [],
   "source": [
    "model = YOLO(\"yolo11n.pt\")\n",
    "url = \"../tests/data/test.mp4\"\n",
    "num_frames = 16\n",
    "gpu_id = 0"
   ]
  },
  {
   "cell_type": "code",
   "execution_count": null,
   "id": "81a0f11f",
   "metadata": {},
   "outputs": [],
   "source": [
    "# HW-accelerated decoder.\n",
    "pyDec = vali.PyDecoder(url, opts={}, gpu_id=gpu_id)\n",
    "\n",
    "# Resize + color conversion combined operation.\n",
    "# Use the same CUDA stream as decoder to avoid excessive CUDA syncs.\n",
    "pyUD = vali.PySurfaceUD(gpu_id=gpu_id, stream=pyDec.Stream)"
   ]
  },
  {
   "cell_type": "code",
   "execution_count": null,
   "id": "ffa94967",
   "metadata": {},
   "outputs": [],
   "source": [
    "target_w = 640\n",
    "target_h = 480\n",
    "\n",
    "# Pre-allocate GPU memory for decoded video frame and RGB tensor.\n",
    "# Further operations on vali side will be done in-place.\n",
    "surfaces = [\n",
    "    vali.Surface.Make(\n",
    "        format=pyDec.Format,\n",
    "        width=pyDec.Width,\n",
    "        height=pyDec.Height,\n",
    "        gpu_id=gpu_id),\n",
    "\n",
    "    vali.Surface.Make(\n",
    "        format=vali.PixelFormat.RGB_32F_PLANAR,\n",
    "        width=target_w,\n",
    "        height=target_h,\n",
    "        gpu_id=gpu_id)\n",
    "]"
   ]
  },
  {
   "cell_type": "code",
   "execution_count": null,
   "id": "e0f84e70",
   "metadata": {},
   "outputs": [],
   "source": [
    "def decode_to_tensor() -> torch.tensor:\n",
    "    \"\"\"\n",
    "    This function decodes single video frame and exports it\n",
    "    to torch cuda tensor.\n",
    "\n",
    "    Returns:\n",
    "        torch.tensor: Planar RGB CUDA float tensor normalized to\n",
    "        model liking.\n",
    "    \"\"\"\n",
    "    # Decode single Surface.\n",
    "    # Use async API because both classes share same CUDA stream.\n",
    "    success, details = pyDec.DecodeSingleSurfaceAsync(surfaces[0])\n",
    "    if not success:\n",
    "        print(details)\n",
    "        raise StopExecution\n",
    "    \n",
    "    # Convert to planar float RGB and resize in single shot.\n",
    "    # Can't use async API because torch doesn't allow to construct\n",
    "    # torch.cuda.Stream from handle.\n",
    "    success, details = pyUD.Run(surfaces[0], surfaces[-1])\n",
    "    if not success:\n",
    "        print(details)\n",
    "        raise StopExecution\n",
    "\n",
    "    # Create torch tensor sharing actual memory with vali.\n",
    "    img_tensor = torch.from_dlpack(surfaces[-1]).clamp(0.0, 1.0)\n",
    "    img_tensor = torch.reshape(img_tensor, [1, 3, target_h, target_w])\n",
    "\n",
    "    return img_tensor\n"
   ]
  },
  {
   "cell_type": "code",
   "execution_count": null,
   "id": "66d15c4f",
   "metadata": {},
   "outputs": [],
   "source": [
    "for i in range(0, num_frames):\n",
    "    results = model.track(decode_to_tensor(), persist=True)\n",
    "    print(results[0].to_json())"
   ]
  }
 ],
 "metadata": {
  "kernelspec": {
   "display_name": "Python 3",
   "language": "python",
   "name": "python3"
  },
  "language_info": {
   "codemirror_mode": {
    "name": "ipython",
    "version": 3
   },
   "file_extension": ".py",
   "mimetype": "text/x-python",
   "name": "python",
   "nbconvert_exporter": "python",
   "pygments_lexer": "ipython3",
   "version": "3.10.12"
  }
 },
 "nbformat": 4,
 "nbformat_minor": 5
}
